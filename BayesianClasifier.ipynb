{
 "cells": [
  {
   "cell_type": "code",
   "execution_count": 71,
   "metadata": {},
   "outputs": [],
   "source": [
    "import numpy as np\n",
    "from random import sample\n",
    "import pandas as pd\n",
    "import matplotlib.pyplot as plt"
   ]
  },
  {
   "cell_type": "code",
   "execution_count": 72,
   "metadata": {},
   "outputs": [],
   "source": [
    "def BayesianClasifier(x, clusters):\n",
    "\n",
    "    '''\n",
    "    Bayesian Clasifier\n",
    "    \n",
    "    ----------\n",
    "    Paramaters\n",
    "    ----------\n",
    "    \n",
    "    - x: data to be classified\n",
    "    - clusters:\n",
    "   \n",
    "        \n",
    "    ------\n",
    "    Return\n",
    "    ------\n",
    "    Index which shows what cluster x belongs to\n",
    "    '''\n",
    "    k = len(clusters)\n",
    "    clusters = np.array(clusters)\n",
    "    d = len(clusters[0][0]) #Dimensions \n",
    "    sizeCluster = []\n",
    "    \n",
    "    for i in range (0, k):\n",
    "        #Compute size of cluster\n",
    "        sizeCluster.append(len(clusters[i]))\n",
    "        \n",
    "    n = np.sum(sizeCluster) #Total number of Data\n",
    "        \n",
    "    covarianceCluster = []\n",
    "    meanCluster = []\n",
    "    solutions = []\n",
    "    for i in range (0, k):\n",
    "        \n",
    "        #Compute mean of cluster\n",
    "        meanCluster.append([np.average([clusters[i][:,j]]) for j in range(0, d)])\n",
    "        \n",
    "        #Compute the stimated covariance matrix of cluster\n",
    "        aux = np.zeros((d,d))\n",
    "        for j in range (0, len(clusters[i])):\n",
    "            nDisper = np.subtract(clusters[i][j], meanCluster[i])\n",
    "            product = np.outer(nDisper,nDisper)\n",
    "            aux = aux + product\n",
    "        aux = aux/sizeCluster[i]\n",
    "        covarianceCluster.append(aux)\n",
    "        \n",
    "        \n",
    "        #Compute the goal function for the cluster. \n",
    "        #We will compute the function in multiple steps\n",
    "        \n",
    "        #First we find the distance between point x and cluster's mean\n",
    "        aux = np.subtract(x, meanCluster[i]) \n",
    "        \n",
    "        #The convarianze matrix hasnt necessarily an inverse, but we assume if we have many dimensions and data, it will.\n",
    "        inverse = np.linalg.inv(covarianceCluster[i])\n",
    "        \n",
    "        aux2 = np.dot(aux,inverse) \n",
    "        aux2 = np.dot(aux2,aux)\n",
    "        \n",
    "        #Now we can calculate the whole objective funciont\n",
    "        #Np.linalg.norm gives the Frobenius norm for a matrix\n",
    "        solutions.append((aux2 + np.log(np.linalg.norm(covarianceCluster[i]) -2*np.log(sizeCluster[i]/n))))\n",
    "        \n",
    "    #We return the index which minices our goal function\n",
    "    return solutions.index(min(solutions))"
   ]
  },
  {
   "cell_type": "code",
   "execution_count": 79,
   "metadata": {},
   "outputs": [],
   "source": [
    "def clusterPlot(x,k,clusters, xAxis, yAxis,):\n",
    "    '''\n",
    "    Draw all members of a cluster list and the point x in the cluster k.\n",
    "    \n",
    "    ----------\n",
    "    Paramaters\n",
    "    ----------\n",
    "    - x = single point\n",
    "    - k = cluster which x belongs to\n",
    "    - clusters: Clusters list and each cluster is a data Matrix of points\n",
    "    - xAxis: coordinate x in graphic.\n",
    "    - yAxis: coordinate y in graphic.\n",
    "    '''\n",
    "    for i in range (0, len(clusters)):\n",
    "        c = clusters[i]\n",
    "        p = plt.plot(c[:,xAxis], c[:,yAxis], 'o')\n",
    "        if (k == i):\n",
    "            plt.plot(x[xAxis], x[yAxis],'x', color = p[-1].get_color()) #Last used color, so it belongs to i-cluster\n",
    "    plt.show()"
   ]
  },
  {
   "cell_type": "code",
   "execution_count": 84,
   "metadata": {},
   "outputs": [
    {
     "data": {
      "image/png": "[encoded data removed]",
      "text/plain": [
       "<Figure size 432x288 with 1 Axes>"
      ]
     },
     "metadata": {
      "needs_background": "light"
     },
     "output_type": "display_data"
    }
   ],
   "source": [
    "clusters = [np.array([[2, 3],\n",
    "       [4, 1],\n",
    "       [2, 1],\n",
    "       [0, 1],\n",
    "       [1, 2]]), np.array([[9, 8],\n",
    "       [4, 1],[10,12]]), np.array([[5, 3],\n",
    "       [5, 6],\n",
    "       [7, 5]])]\n",
    "\n",
    "x = np.array([1,3])\n",
    "clusterPlot(x,BayesianClasifier(x, clusters),clusters, 0,1)"
   ]
  },
  {
   "cell_type": "code",
   "execution_count": null,
   "metadata": {},
   "outputs": [],
   "source": []
  }
 ],
 "metadata": {
  "kernelspec": {
   "display_name": "Python 3",
   "language": "python",
   "name": "python3"
  },
  "language_info": {
   "codemirror_mode": {
    "name": "ipython",
    "version": 3
   },
   "file_extension": ".py",
   "mimetype": "text/x-python",
   "name": "python",
   "nbconvert_exporter": "python",
   "pygments_lexer": "ipython3",
   "version": "3.6.7"
  }
 },
 "nbformat": 4,
 "nbformat_minor": 2
}
