{
 "cells": [
  {
   "cell_type": "code",
   "execution_count": 3,
   "metadata": {},
   "outputs": [],
   "source": [
    "import numpy as np\n",
    "from random import randint \n",
    "# import pandas as pd\n",
    "from matplotlib.colors import ListedColormap"
   ]
  },
  {
   "cell_type": "code",
   "execution_count": 67,
   "metadata": {},
   "outputs": [],
   "source": [
    "def KMeans(data, k = 2, norm = np.linalg.norm, maxIter = 15, tolerance = 0.01):\n",
    "    \n",
    "    '''\n",
    "    KMeans Algorithm\n",
    "    \n",
    "    ----------\n",
    "    Parámetros\n",
    "    ----------\n",
    "    \n",
    "    - data (optional): Data Matrix that will be clusterized.\n",
    "    - k (optional): Integer Number of Clusters. Default value is 2.\n",
    "    - norm (optional): Function. Vector Space Norm. Default\n",
    "        value is euclidean norm (numpy.linalg.norm).\n",
    "    - maxIter (optional): Integer. Maximum iterations that the\n",
    "        algorithm will be executed. Default value is 15.\n",
    "    - tolerance (optional): Float. Default value = 0.1.\n",
    "        \n",
    "    ------\n",
    "    Return\n",
    "    ------\n",
    "    ???\n",
    "    '''\n",
    "    data = np.array(data)\n",
    "    centroids = []\n",
    "    # Inicialice centroids randomly\n",
    "    for i in range(0, k):\n",
    "        centroids.append(data[i + 4])\n",
    "    \n",
    "    isOptimal = False;\n",
    "    iterations = 0;\n",
    "    \n",
    "    while (not isOptimal and iterations < maxIter):\n",
    "        \n",
    "        # Inicialize k  empty clusters\n",
    "        clusters = []\n",
    "        for i in range(0, k):\n",
    "            clusters.append([])\n",
    "        \n",
    "        iterations += 1\n",
    "            \n",
    "        # Classify each individual in the cluster which minimices distance to its centroid.\n",
    "        for x in data:\n",
    "            distances = [norm(x - i) for i in centroids]\n",
    "            minCluster = distances.index(min(distances))\n",
    "            clusters[minCluster].append(x)\n",
    "\n",
    "        auxCentroids = list(centroids)\n",
    "\n",
    "        #New centroids are the mean of each cluster\n",
    "        for i in range (0, len(centroids)):\n",
    "            centroids[i] = np.average(clusters[i])\n",
    "\n",
    "\n",
    "        if max([norm(centroids[i] - auxCentroids[i])/norm(auxCentroids[i]) for i in range (0, len(centroids))]) <= tolerance:\n",
    "            isOptimal = True\n",
    "\n",
    "                #If at least a centroid change substantially, then we keep iterating\n",
    "\n",
    "    return [np.array(i) for i in clusters], centroids\n",
    "\n",
    "       "
   ]
  },
  {
   "cell_type": "code",
   "execution_count": 68,
   "metadata": {},
   "outputs": [
    {
     "data": {
      "image/png": "[encoded data removed]",
      "text/plain": [
       "<Figure size 432x288 with 1 Axes>"
      ]
     },
     "metadata": {},
     "output_type": "display_data"
    }
   ],
   "source": [
    "data = np.array(np.mat('2 3;4 1;5 3;2 1;9 8;0 1;1 2;5 6;7 5;4 8'))\n",
    "cluster, centroids = KMeans(data,2)\n",
    "clusterPlot(c,0,1, centroids)"
   ]
  },
  {
   "cell_type": "code",
   "execution_count": 61,
   "metadata": {},
   "outputs": [],
   "source": [
    "import matplotlib.pyplot as pl\n",
    "\n",
    "def clusterPlot(clusters, x, y, centroids):\n",
    "    for c in clusters:\n",
    "        pl.plot(c[:,x], c[:,y], 'o')\n",
    "    pl.plot(centroids, 'rx')\n",
    "    pl.show()"
   ]
  },
  {
   "cell_type": "code",
   "execution_count": 8,
   "metadata": {},
   "outputs": [
    {
     "name": "stdout",
     "output_type": "stream",
     "text": [
      "[array([[1, 1],\n",
      "       [1, 2]]), array([[1, 3],\n",
      "       [1, 4],\n",
      "       [1, 5]])]\n"
     ]
    },
    {
     "data": {
      "image/png": "[encoded data removed]",
      "text/plain": [
       "<Figure size 432x288 with 1 Axes>"
      ]
     },
     "metadata": {},
     "output_type": "display_data"
    }
   ],
   "source": [
    "d = [[[1,1],[1,2]],[[1,3],[1,4],[1,5]]]\n",
    "d = [np.array(i) for i in d]\n",
    "print(d)\n",
    "clusterPlot(d,0,1)"
   ]
  },
  {
   "cell_type": "code",
   "execution_count": 28,
   "metadata": {},
   "outputs": [
    {
     "data": {
      "text/plain": [
       "0.77302068252392575"
      ]
     },
     "execution_count": 28,
     "metadata": {},
     "output_type": "execute_result"
    }
   ],
   "source": [
    "centroids = np.array([[1,1],[1,2]])\n",
    "auxCentroids = np.array([[1,3],[1,9]])\n",
    "norm = np.linalg.norm\n",
    "\n",
    "max([norm(centroids[i] - auxCentroids[i])/norm(auxCentroids[i]) for i in range (0, len(centroids))])"
   ]
  },
  {
   "cell_type": "code",
   "execution_count": null,
   "metadata": {},
   "outputs": [],
   "source": []
  }
 ],
 "metadata": {
  "kernelspec": {
   "display_name": "Python 2",
   "language": "python",
   "name": "python2"
  },
  "language_info": {
   "codemirror_mode": {
    "name": "ipython",
    "version": 2
   },
   "file_extension": ".py",
   "mimetype": "text/x-python",
   "name": "python",
   "nbconvert_exporter": "python",
   "pygments_lexer": "ipython2",
   "version": "2.7.15"
  }
 },
 "nbformat": 4,
 "nbformat_minor": 2
}
