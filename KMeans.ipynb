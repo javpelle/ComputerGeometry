{
 "cells": [
  {
   "cell_type": "code",
   "execution_count": 62,
   "metadata": {},
   "outputs": [],
   "source": [
    "import numpy as np\n",
    "from random import randint\n",
    "\n",
    "def KMeans(data, k, norm):\n",
    "    meansK = np.zeros((k, len(data[0])))\n",
    "    r = np.zeros((len(data), k))  \n",
    "    \n",
    "    # Choose k points randomly\n",
    "    for i in range(0, k):\n",
    "        meansK[i] = data[randint(0, len(data) - 1),:]\n",
    "    \n",
    "    # Inicialize r\n",
    "    for i in range(0, len(data)):\n",
    "        mink = 0\n",
    "        value = norm(data[i,:] - meansK[0,:])\n",
    "        for k in range (1, len(meansK)):\n",
    "            aux = norm(data[i,:] - meansK[k,:])\n",
    "            if  aux < value:\n",
    "                value = aux\n",
    "                mink = k\n",
    "        r[i,mink] = 1\n",
    "    \n",
    "    # Actualizate meansK\n",
    "    for k in range (0, len(meansK)):\n",
    "        meansK[k] = r[:, k] * data # mal\n",
    "    return r\n",
    "    "
   ]
  },
  {
   "cell_type": "code",
   "execution_count": 63,
   "metadata": {},
   "outputs": [
    {
     "data": {
      "text/plain": [
       "array([[1., 0.],\n",
       "       [1., 0.],\n",
       "       [0., 1.],\n",
       "       [1., 0.],\n",
       "       [1., 0.]])"
      ]
     },
     "execution_count": 63,
     "metadata": {},
     "output_type": "execute_result"
    }
   ],
   "source": [
    "data = np.array(np.mat('2 3 4 1;5 3 2 1;9 8 0 1;1 2 5 6;7 5 4 8'))\n",
    "KMeans(data,2,np.linalg.norm)"
   ]
  },
  {
   "cell_type": "code",
   "execution_count": null,
   "metadata": {},
   "outputs": [],
   "source": []
  },
  {
   "cell_type": "code",
   "execution_count": null,
   "metadata": {},
   "outputs": [],
   "source": []
  }
 ],
 "metadata": {
  "kernelspec": {
   "display_name": "Python 3",
   "language": "python",
   "name": "python3"
  },
  "language_info": {
   "codemirror_mode": {
    "name": "ipython",
    "version": 3
   },
   "file_extension": ".py",
   "mimetype": "text/x-python",
   "name": "python",
   "nbconvert_exporter": "python",
   "pygments_lexer": "ipython3",
   "version": "3.7.1"
  }
 },
 "nbformat": 4,
 "nbformat_minor": 2
}
