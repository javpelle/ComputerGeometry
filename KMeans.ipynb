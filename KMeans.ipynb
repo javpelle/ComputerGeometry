{
 "cells": [
  {
   "cell_type": "code",
   "execution_count": 10,
   "metadata": {},
   "outputs": [],
   "source": [
    "import numpy as np\n",
    "from random import randint \n",
    "import pandas as pd\n",
    "from matplotlib.colors import ListedColormap"
   ]
  },
  {
   "cell_type": "code",
   "execution_count": 62,
   "metadata": {},
   "outputs": [],
   "source": [
    "import numpy as np\n",
    "from random import randint\n",
    "\n",
    "def KMeans(data, k, norm):\n",
    "    centroids = np.zeros((k, len(data[0])))\n",
    "    r = np.zeros((len(data), k))  \n",
    "    \n",
    "    # Choose k points randomly\n",
    "    for i in range(0, k):\n",
    "        centroids = data[randint(0, len(data) - 1),:]\n",
    "    \n",
    "    # Inicialize r\n",
    "    for i in range(0, len(data)):\n",
    "        mink = 0\n",
    "        value = norm(data[i,:] - meansK[0,:])\n",
    "        for k in range (1, len(meansK)):\n",
    "            aux = norm(data[i,:] - meansK[k,:])\n",
    "            if  aux < value:\n",
    "                value = aux\n",
    "                mink = k\n",
    "        r[i,mink] = 1\n",
    "    \n",
    "    # Actualizate meansK\n",
    "    for k in range (0, len(meansK)):\n",
    "        meansK[k] = r[:, k] * data # mal\n",
    "    return r\n",
    "    "
   ]
  },
  {
   "cell_type": "code",
   "execution_count": 63,
   "metadata": {},
   "outputs": [
    {
     "data": {
      "text/plain": [
       "array([[1., 0.],\n",
       "       [1., 0.],\n",
       "       [0., 1.],\n",
       "       [1., 0.],\n",
       "       [1., 0.]])"
      ]
     },
     "execution_count": 63,
     "metadata": {},
     "output_type": "execute_result"
    }
   ],
   "source": [
    "data = np.array(np.mat('2 3 4 1;5 3 2 1;9 8 0 1;1 2 5 6;7 5 4 8'))\n",
    "KMeans(data,2,np.linalg.norm)"
   ]
  },
  {
   "cell_type": "code",
   "execution_count": 5,
   "metadata": {},
   "outputs": [],
   "source": [
    "def KMeans(data, k, norm, maxIter, tolerance):\n",
    "    \n",
    "    # Inicialice centroids randomly\n",
    "    for i in range(0, k):\n",
    "        centroids[i] = data[randint(0, len(data) - 1)]\n",
    "        \n",
    "    # Inicialize k  empty clusters\n",
    "    for i in range(0,k):\n",
    "        clusters[i] = []\n",
    "    \n",
    "    isOptimal = False;\n",
    "    iterations = 0;\n",
    "    \n",
    "    while (not isOptimal & iterations < maxIter):\n",
    "    \n",
    "        iterations+= 1\n",
    "        # Classify each individual in the cluster which minimices distance to its centroid.\n",
    "        for x in data:\n",
    "            distances = [norm(x - centroids[i]) for i in centroids]\n",
    "            minCluster= distances.index(min(distances))\n",
    "            clusters[xCluster].append(x)\n",
    "\n",
    "        auxCentroids = centroids.copy()\n",
    "\n",
    "        #New centroids are the mean of each cluster\n",
    "        for i in clusters:\n",
    "            centroids[i] = np.average(classes[i])\n",
    "\n",
    "        isOptimal = True\n",
    "        for i in centroids:\n",
    "\n",
    "            old = auxCeontroids[i]\n",
    "            new = centroids[i]\n",
    "\n",
    "            if np.sum((new - old)/old * 100.0) > tolerance:\n",
    "                isOptimal = False\n",
    "\n",
    "                #If at least a centroid change substantially, then we keep iterating\n",
    "\n",
    "       "
   ]
  },
  {
   "cell_type": "code",
   "execution_count": 11,
   "metadata": {},
   "outputs": [],
   "source": [
    "#Coger datos y probar"
   ]
  },
  {
   "cell_type": "code",
   "execution_count": null,
   "metadata": {},
   "outputs": [],
   "source": []
  }
 ],
 "metadata": {
  "kernelspec": {
   "display_name": "Python 3",
   "language": "python",
   "name": "python3"
  },
  "language_info": {
   "codemirror_mode": {
    "name": "ipython",
    "version": 3
   },
   "file_extension": ".py",
   "mimetype": "text/x-python",
   "name": "python",
   "nbconvert_exporter": "python",
   "pygments_lexer": "ipython3",
   "version": "3.6.7"
  }
 },
 "nbformat": 4,
 "nbformat_minor": 2
}
