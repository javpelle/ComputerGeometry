{
 "cells": [
  {
   "cell_type": "code",
   "execution_count": 30,
   "metadata": {},
   "outputs": [],
   "source": [
    "import numpy as np\n",
    "from random import randint \n",
    "import pandas as pd\n",
    "from matplotlib.colors import ListedColormap"
   ]
  },
  {
   "cell_type": "code",
   "execution_count": 40,
   "metadata": {},
   "outputs": [],
   "source": [
    "def KMeans(data, k = 2, norm = np.linalg.norm, maxIter = 15, tolerance = 0.1):\n",
    "    \n",
    "    '''\n",
    "    KMeans Algorithm\n",
    "    \n",
    "    ----------\n",
    "    Parámetros\n",
    "    ----------\n",
    "    \n",
    "    data (optional): Data Matrix that will be clusterized.\n",
    "    k (optional): Integer Number of Clusters. Default value is 2.\n",
    "    norm (optional): Function. Vector Space Norm. Default\n",
    "        value is euclidean norm (numpy.linalg.norm).\n",
    "    maxIter (optional): Integer. Maximum iterations that the\n",
    "        algorithm will be executed. Default value is 15.\n",
    "    tolerance (optional): Float. Default value = 0.1.\n",
    "        \n",
    "    ------\n",
    "    Return\n",
    "    ------\n",
    "    ???\n",
    "    '''\n",
    "    centroids = [None] * k\n",
    "    clusters = [None] * k\n",
    "    # Inicialice centroids randomly\n",
    "    for i in range(0, k):\n",
    "        centroids[i] = data[randint(0, len(data) - 1)]\n",
    "        \n",
    "    # Inicialize k  empty clusters\n",
    "    for i in range(0,k):\n",
    "        clusters[i] = []\n",
    "    \n",
    "    isOptimal = False;\n",
    "    iterations = 0;\n",
    "    \n",
    "    while (not isOptimal & iterations < maxIter):\n",
    "        \n",
    "        iterations+= 1\n",
    "            \n",
    "        # Classify each individual in the cluster which minimices distance to its centroid.\n",
    "        for x in data:\n",
    "            distances = [norm(x - centroids[i]) for i in centroids]\n",
    "            minCluster = distances.index(min(distances))\n",
    "            clusters[xCluster].append(x)\n",
    "\n",
    "        auxCentroids = centroids.copy()\n",
    "\n",
    "        #New centroids are the mean of each cluster\n",
    "        for i in clusters:\n",
    "            centroids[i] = np.average(classes[i])\n",
    "\n",
    "        isOptimal = True\n",
    "        for i in centroids:\n",
    "\n",
    "            old = auxCeontroids[i]\n",
    "            new = centroids[i]\n",
    "\n",
    "            if np.sum((new - old)/old * 100.0) > tolerance:\n",
    "                isOptimal = False\n",
    "\n",
    "                #If at least a centroid change substantially, then we keep iterating\n",
    "\n",
    "       "
   ]
  },
  {
   "cell_type": "code",
   "execution_count": 42,
   "metadata": {},
   "outputs": [],
   "source": [
    "data = np.array(np.mat('2 3 4 1;5 3 2 1;9 8 0 1;1 2 5 6;7 5 4 8'))\n",
    "KMeans(data,2,tolerance = 0.001)"
   ]
  },
  {
   "cell_type": "code",
   "execution_count": 77,
   "metadata": {},
   "outputs": [
    {
     "data": {
      "image/png": "[encoded data removed]",
      "text/plain": [
       "<Figure size 432x288 with 1 Axes>"
      ]
     },
     "metadata": {
      "needs_background": "light"
     },
     "output_type": "display_data"
    }
   ],
   "source": [
    "import matplotlib.pyplot as pl\n",
    "\n",
    "def clusterPlot(clusters, x, y):\n",
    "    for c in clusters:\n",
    "        pl.plot(c[:,x], c[:,y], 'o')\n",
    "    pl.show()\n",
    "    \n",
    "a = np.array(np.mat('1 2;4 5;4 7'))\n",
    "b = np.array(np.mat('1 -1;4 3'))\n",
    "y = [a,b]\n",
    "clusterPlot(y,0,1)"
   ]
  },
  {
   "cell_type": "code",
   "execution_count": 79,
   "metadata": {},
   "outputs": [
    {
     "name": "stdout",
     "output_type": "stream",
     "text": [
      "[array([[1, 1],\n",
      "       [1, 2]]), array([[1, 3],\n",
      "       [1, 4],\n",
      "       [1, 5]])]\n"
     ]
    },
    {
     "data": {
      "image/png": "[encoded data removed]",
      "text/plain": [
       "<Figure size 432x288 with 1 Axes>"
      ]
     },
     "metadata": {
      "needs_background": "light"
     },
     "output_type": "display_data"
    }
   ],
   "source": [
    "d = [[[1,1],[1,2]],[[1,3],[1,4],[1,5]]]\n",
    "d = [np.array(i) for i in d]\n",
    "print(d)\n",
    "clusterPlot(d,0,1)"
   ]
  },
  {
   "cell_type": "code",
   "execution_count": null,
   "metadata": {},
   "outputs": [],
   "source": []
  }
 ],
 "metadata": {
  "kernelspec": {
   "display_name": "Python 3",
   "language": "python",
   "name": "python3"
  },
  "language_info": {
   "codemirror_mode": {
    "name": "ipython",
    "version": 3
   },
   "file_extension": ".py",
   "mimetype": "text/x-python",
   "name": "python",
   "nbconvert_exporter": "python",
   "pygments_lexer": "ipython3",
   "version": "3.7.1"
  }
 },
 "nbformat": 4,
 "nbformat_minor": 2
}
