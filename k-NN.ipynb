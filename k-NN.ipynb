{
 "cells": [
  {
   "cell_type": "code",
   "execution_count": 105,
   "metadata": {},
   "outputs": [],
   "source": [
    "import numpy as np\n",
    "from sklearn.model_selection import train_test_split\n",
    "import pandas as pd\n",
    "import matplotlib.pyplot as pl\n",
    "from scipy.stats import mode"
   ]
  },
  {
   "cell_type": "code",
   "execution_count": 106,
   "metadata": {},
   "outputs": [],
   "source": [
    "class kNN:\n",
    "    \n",
    "    def __init__(self, k, norm = np.linalg.norm):\n",
    "        self.k = k\n",
    "        self.norm = norm\n",
    "        \n",
    "    def fit(self, data_X, data_y):\n",
    "        #dataX\n",
    "        self.data_X = data_X\n",
    "        self.data_y = data_y\n",
    "        \n",
    "    def predict(self, test_X):\n",
    "        len_test_X = test_X.shape[0]\n",
    "        distances = []\n",
    "        test_y = []\n",
    "        \n",
    "        for x in self.data_X:\n",
    "            distances.append(self.norm(test_X - x, axis = 1))\n",
    "        distances = np.array(distances)\n",
    "        \n",
    "        for i in range (0, len_test_X):\n",
    "            idx = np.argsort(distances[:,i])\n",
    "            closestClusters = np.array(self.data_y)[idx]\n",
    "            closestClusters = closestClusters[0:self.k]\n",
    "            test_y_mode, _ = mode(closestClusters)\n",
    "            test_y.append(test_y_mode[0])\n",
    "        \n",
    "        #We create a list which contains the k cluster labels associated to the k closests points\n",
    "        \n",
    "        #We create a set with these labels(in order to remove repetition). The function max will take one by one the labels on\n",
    "        #the set and compare based on the key, which is how many times that label appears on the list closetsClusters\n",
    "        \n",
    "        return np.array(test_y)\n",
    "    \n",
    "    def predict_proba(self, test_X):\n",
    "        len_test_X = test_X.shape[0]\n",
    "        distances = []\n",
    "        test_y = []\n",
    "        \n",
    "        for x in self.data_X:\n",
    "            distances.append(self.norm(test_X - x, axis = 1))\n",
    "        distances = np.array(distances)\n",
    "        \n",
    "        for i in range (0, len_test_X):\n",
    "            idx = np.argsort(distances[:,i])\n",
    "            closestClusters = np.array(self.data_y)[idx]\n",
    "            closestClusters = closestClusters[0:self.k]\n",
    "            test_y_mode = [(closestClusters.tolist().count(j) / self.k, j) for j in set(closestClusters)]\n",
    "            test_y.append(test_y_mode)\n",
    "        \n",
    "        #We create a list which contains the k cluster labels associated to the k closests points\n",
    "        \n",
    "        #We create a set with these labels(in order to remove repetition). The function max will take one by one the labels on\n",
    "        #the set and compare based on the key, which is how many times that label appears on the list closetsClusters\n",
    "        \n",
    "        return test_y"
   ]
  },
  {
   "cell_type": "code",
   "execution_count": 125,
   "metadata": {},
   "outputs": [
    {
     "name": "stdout",
     "output_type": "stream",
     "text": [
      "0.9047619047619048\n",
      "[[(1.0, 3.0)], [(0.2, 1.0), (0.8, 3.0)], [(1.0, 3.0)], [(1.0, 1.0)], [(1.0, 2.0)], [(1.0, 3.0)], [(1.0, 2.0)], [(1.0, 1.0)], [(0.6, 1.0), (0.4, 2.0)], [(0.8, 1.0), (0.2, 2.0)], [(1.0, 2.0)], [(1.0, 1.0)], [(1.0, 2.0)], [(0.4, 1.0), (0.6, 3.0)], [(1.0, 1.0)], [(1.0, 3.0)], [(0.6, 1.0), (0.4, 3.0)], [(0.2, 1.0), (0.8, 2.0)], [(0.4, 1.0), (0.6, 2.0)], [(1.0, 1.0)], [(1.0, 1.0)], [(0.2, 1.0), (0.8, 3.0)], [(1.0, 2.0)], [(0.2, 1.0), (0.8, 3.0)], [(1.0, 3.0)], [(0.6, 1.0), (0.4, 3.0)], [(1.0, 2.0)], [(0.2, 1.0), (0.8, 3.0)], [(1.0, 1.0)], [(0.4, 1.0), (0.6, 3.0)], [(0.2, 1.0), (0.8, 3.0)], [(1.0, 3.0)], [(1.0, 1.0)], [(0.2, 1.0), (0.8, 3.0)], [(1.0, 2.0)], [(1.0, 2.0)], [(1.0, 3.0)], [(1.0, 2.0)], [(0.6, 1.0), (0.4, 3.0)], [(1.0, 2.0)], [(1.0, 1.0)], [(1.0, 2.0)], [(0.4, 1.0), (0.6, 2.0)], [(1.0, 3.0)], [(1.0, 3.0)], [(1.0, 3.0)], [(0.2, 1.0), (0.8, 2.0)], [(1.0, 3.0)], [(1.0, 2.0)], [(1.0, 2.0)], [(0.8, 1.0), (0.2, 2.0)], [(1.0, 1.0)], [(1.0, 3.0)], [(1.0, 1.0)], [(1.0, 1.0)], [(1.0, 3.0)], [(1.0, 3.0)], [(1.0, 3.0)], [(0.2, 1.0), (0.8, 3.0)], [(1.0, 3.0)], [(1.0, 1.0)], [(1.0, 2.0)], [(1.0, 3.0)], [(0.8, 1.0), (0.2, 3.0)], [(0.4, 1.0), (0.6, 3.0)], [(1.0, 1.0)], [(1.0, 2.0)], [(0.6, 1.0), (0.4, 3.0)], [(1.0, 2.0)], [(1.0, 2.0)], [(1.0, 3.0)], [(1.0, 3.0)], [(0.2, 1.0), (0.8, 3.0)], [(0.6, 1.0), (0.4, 3.0)], [(1.0, 2.0)], [(0.6, 1.0), (0.4, 2.0)], [(0.2, 1.0), (0.8, 3.0)], [(1.0, 3.0)], [(1.0, 3.0)], [(0.6, 1.0), (0.4, 3.0)], [(0.8, 1.0), (0.2, 2.0)], [(1.0, 1.0)], [(1.0, 3.0)], [(1.0, 3.0)], [(0.8, 1.0), (0.2, 2.0)], [(1.0, 2.0)], [(0.2, 1.0), (0.8, 3.0)], [(1.0, 2.0)], [(1.0, 2.0)], [(1.0, 2.0)], [(0.6, 1.0), (0.4, 3.0)], [(1.0, 1.0)], [(0.6, 1.0), (0.4, 3.0)], [(0.6, 1.0), (0.4, 2.0)], [(1.0, 3.0)], [(1.0, 2.0)], [(1.0, 2.0)], [(0.4, 1.0), (0.6, 3.0)], [(1.0, 3.0)], [(1.0, 3.0)], [(1.0, 3.0)], [(0.8, 1.0), (0.2, 3.0)], [(1.0, 2.0)], [(1.0, 3.0)], [(1.0, 2.0)], [(1.0, 2.0)], [(1.0, 2.0)], [(1.0, 3.0)], [(1.0, 3.0)], [(1.0, 3.0)], [(1.0, 2.0)], [(1.0, 3.0)], [(1.0, 3.0)], [(1.0, 2.0)], [(1.0, 1.0)], [(1.0, 1.0)], [(1.0, 1.0)], [(1.0, 2.0)], [(0.8, 1.0), (0.2, 3.0)], [(1.0, 1.0)], [(1.0, 2.0)], [(1.0, 3.0)], [(1.0, 1.0)], [(1.0, 2.0)], [(1.0, 2.0)], [(1.0, 2.0)], [(1.0, 1.0)], [(1.0, 2.0)], [(1.0, 3.0)], [(1.0, 3.0)], [(0.2, 1.0), (0.8, 3.0)], [(0.8, 1.0), (0.2, 2.0)], [(1.0, 2.0)], [(0.2, 1.0), (0.8, 3.0)], [(1.0, 3.0)], [(0.8, 1.0), (0.2, 2.0)], [(1.0, 1.0)], [(1.0, 1.0)], [(1.0, 3.0)], [(1.0, 2.0)], [(0.6, 1.0), (0.4, 2.0)], [(1.0, 1.0)], [(0.6, 1.0), (0.4, 2.0)], [(0.2, 1.0), (0.8, 3.0)], [(0.4, 1.0), (0.6, 3.0)], [(0.2, 1.0), (0.8, 2.0)], [(1.0, 2.0)]]\n"
     ]
    }
   ],
   "source": [
    "data = pd.read_csv('seeds_dataset.txt')\n",
    "data = data.values\n",
    "X = data[:,:-1]\n",
    "y = data[:,-1]\n",
    "X_train, X_test, y_train, y_test = train_test_split(X, y, test_size=0.7)\n",
    "\n",
    "model = kNN(5)\n",
    "model.fit(X_train, y_train)\n",
    "y_pred = model.predict(X_test)\n",
    "\n",
    "print(np.mean(y_pred==y_test))\n",
    "print(model.predict_proba(X_test))"
   ]
  },
  {
   "cell_type": "code",
   "execution_count": null,
   "metadata": {},
   "outputs": [],
   "source": []
  }
 ],
 "metadata": {
  "kernelspec": {
   "display_name": "Python 3",
   "language": "python",
   "name": "python3"
  },
  "language_info": {
   "codemirror_mode": {
    "name": "ipython",
    "version": 3
   },
   "file_extension": ".py",
   "mimetype": "text/x-python",
   "name": "python",
   "nbconvert_exporter": "python",
   "pygments_lexer": "ipython3",
   "version": "3.7.1"
  }
 },
 "nbformat": 4,
 "nbformat_minor": 2
}
