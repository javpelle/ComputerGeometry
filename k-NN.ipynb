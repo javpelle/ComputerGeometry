{
 "cells": [
  {
   "cell_type": "code",
   "execution_count": 6,
   "metadata": {},
   "outputs": [],
   "source": [
    "import numpy as np\n",
    "from random import sample\n",
    "import pandas as pd\n",
    "import matplotlib.pyplot as pl"
   ]
  },
  {
   "cell_type": "code",
   "execution_count": 74,
   "metadata": {},
   "outputs": [],
   "source": [
    "class kNN:\n",
    "    k = 0\n",
    "    norm = np.linalg.norm\n",
    "    \n",
    "    def __init__(self, k, norm):\n",
    "        self.k = k\n",
    "        self.norm = norm\n",
    "        \n",
    "    def fit(self, dataX, dataY):\n",
    "        #dataX\n",
    "        self.dataX = dataX\n",
    "        self.dataY = dataY\n",
    "    \n",
    "    def sortFirst(pair): \n",
    "        return pair[0]  \n",
    "        \n",
    "    def predict(self, x): \n",
    "        distances = []\n",
    "        \n",
    "        for i in range(0, len(self.dataX)):\n",
    "            pair = (self.norm(x-self.dataX[i]), self.dataY[i])\n",
    "            \n",
    "            distances.append(pair)\n",
    "        \n",
    "        distances.sort(key=lambda pair: pair[0]) \n",
    "        \n",
    "        #We create a list which contains the k cluster labels associated to the k closests points\n",
    "        closetsClusters = [distances[i][1] for i in range(0,self.k)]\n",
    "        \n",
    "        #We create a set with these labels(in order to remove repetition). The function max will take one by one the labels on\n",
    "        #the set and compare based on the key, which is how many times that label appears on the list closetsClusters\n",
    "        \n",
    "        return max(set(closetsClusters), key = closetsClusters.count) "
   ]
  },
  {
   "cell_type": "code",
   "execution_count": 75,
   "metadata": {},
   "outputs": [
    {
     "name": "stdout",
     "output_type": "stream",
     "text": [
      "[2 3]\n"
     ]
    }
   ],
   "source": [
    "dataX= np.array([[2, 3],\n",
    "       [4, 1],\n",
    "       [2, 1],\n",
    "       [0, 1],\n",
    "       [1, 2],[9, 8],\n",
    "       [4, 1],[10,12],[5, 3],\n",
    "       [5, 6],\n",
    "       [7, 5]])\n",
    "dataY = np.array([0,0,0,0,0,1,1,1,2,2,2])"
   ]
  },
  {
   "cell_type": "code",
   "execution_count": 76,
   "metadata": {},
   "outputs": [
    {
     "data": {
      "text/plain": [
       "1"
      ]
     },
     "execution_count": 76,
     "metadata": {},
     "output_type": "execute_result"
    }
   ],
   "source": [
    "a = kNN(3, np.linalg.norm)\n",
    "a.fit(dataX,dataY)\n",
    "\n",
    "x = np.array([12,12])\n",
    "a.predict(x)"
   ]
  },
  {
   "cell_type": "code",
   "execution_count": null,
   "metadata": {},
   "outputs": [],
   "source": []
  },
  {
   "cell_type": "code",
   "execution_count": 35,
   "metadata": {},
   "outputs": [],
   "source": []
  },
  {
   "cell_type": "code",
   "execution_count": null,
   "metadata": {},
   "outputs": [],
   "source": []
  }
 ],
 "metadata": {
  "kernelspec": {
   "display_name": "Python 3",
   "language": "python",
   "name": "python3"
  },
  "language_info": {
   "codemirror_mode": {
    "name": "ipython",
    "version": 3
   },
   "file_extension": ".py",
   "mimetype": "text/x-python",
   "name": "python",
   "nbconvert_exporter": "python",
   "pygments_lexer": "ipython3",
   "version": "3.6.7"
  }
 },
 "nbformat": 4,
 "nbformat_minor": 2
}
