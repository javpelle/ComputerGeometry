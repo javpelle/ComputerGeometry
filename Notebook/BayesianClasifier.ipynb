{
 "cells": [
  {
   "cell_type": "code",
   "execution_count": 7,
   "metadata": {},
   "outputs": [],
   "source": [
    "import numpy as np\n",
    "from random import sample\n",
    "from sklearn.model_selection import train_test_split\n",
    "import pandas as pd\n",
    "import matplotlib.pyplot as plt"
   ]
  },
  {
   "cell_type": "code",
   "execution_count": 31,
   "metadata": {},
   "outputs": [],
   "source": [
    "class BayesianClassifier:\n",
    "\n",
    "    '''\n",
    "    Bayesian Clasifier\n",
    "    \n",
    "    ----------\n",
    "    Paramaters\n",
    "    ----------\n",
    "    \n",
    "    - x: data to be classified\n",
    "    - clusters:\n",
    "     \n",
    "    ------\n",
    "    Return\n",
    "    ------\n",
    "    Index which shows what cluster x belongs to\n",
    "    '''\n",
    "    \n",
    "    def fit(self, data_X, data_y):\n",
    "        '''\n",
    "        Fit function. \n",
    "        ----------\n",
    "        Paramaters\n",
    "        ----------\n",
    "        - data_X: Data Matrix training set.\n",
    "        - data_y: Vector of classes. data_X[i,:] class is\n",
    "            data_y[i].\n",
    "        '''\n",
    "        \n",
    "        # Prepare data. We need data in clusters\n",
    "        classes_set = list(set(data_y))\n",
    "        clusters = [[] for i in classes_set]\n",
    "        \n",
    "        # If i-data has class j, introduces it in cluster j\n",
    "        for i in range(0, len(data_y)):\n",
    "            clusters[classes_set.index(data_y[i])].append(data_X[i])\n",
    "        \n",
    "        k = len(clusters)\n",
    "        clusters = np.array([np.array(c) for c in clusters])\n",
    "        \n",
    "        d = len(data_X[0]) #Dimensions\n",
    "        \n",
    "        self.sizeCluster = []\n",
    "        self.covarianceCluster = []\n",
    "        self.meanCluster = []\n",
    "        self.N = len(data_X)\n",
    "\n",
    "        for i in range (0, k):\n",
    "            #Compute size of cluster\n",
    "            self.sizeCluster.append(len(clusters[i]))\n",
    "\n",
    "        \n",
    "\n",
    "        \n",
    "        \n",
    "        for i in range (0, k):\n",
    "\n",
    "            #Compute mean of cluster\n",
    "            self.meanCluster.append([np.average([clusters[i][:,j]]) for j in range(0, d)])\n",
    "\n",
    "            #Compute the stimated covariance matrix of cluster\n",
    "            aux = np.zeros((d,d))\n",
    "            for j in range (0, len(clusters[i])):\n",
    "                nDisper = np.subtract(clusters[i][j], self.meanCluster[i])\n",
    "                product = np.outer(nDisper,nDisper)\n",
    "                aux = aux + product\n",
    "            aux = aux / self.sizeCluster[i]\n",
    "            self.covarianceCluster.append(aux)\n",
    "            \n",
    "        self.inverse = [np.linalg.inv(i) for i in self.covarianceCluster]   \n",
    "        \n",
    "        \n",
    "    def predict(self, x):\n",
    "        '''\n",
    "        Predict function.\n",
    "        ----------\n",
    "        Paramaters\n",
    "        ----------\n",
    "        - test_X: Data Matrix. Function will predict the\n",
    "            class for each data test_X[i,:].\n",
    "\n",
    "        ------\n",
    "        Return\n",
    "        ------\n",
    "        - test_y: Vector of classes. test_X[i,:] class is\n",
    "            test_y[i].\n",
    "        '''\n",
    "        solutions = []\n",
    "        #Compute the goal function for the cluster. \n",
    "        #We will compute the function in multiple steps\n",
    "\n",
    "        #First we find the distance between point x and cluster's mean\n",
    "        distances = [np.subtract(x, i) for i in self.meanCluster]\n",
    "\n",
    "        solutions = [np.dot(np.dot(distances[i], self.inverse[i]),distances[i]) for i in range(0, len(distances))]\n",
    "\n",
    "        solutions = [solutions[i] + np.log(np.linalg.norm(self.covarianceCluster[i]) -2*np.log(self.sizeCluster[i]/self.N)                                       for i in range(0, len(solutions)))]\n",
    "\n",
    "        #Now we can calculate the whole objective funciont\n",
    "        #Np.linalg.norm gives the Frobenius norm for a matrix\n",
    "        #solutions.append((aux2 + np.log(np.linalg.norm(self.covarianceCluster[i]) -2*np.log(self.sizeCluster[i]/n))))\n",
    "\n",
    "        #We return the index which minices our goal function\n",
    "        return solutions.index(min(solutions))"
   ]
  },
  {
   "cell_type": "code",
   "execution_count": 32,
   "metadata": {},
   "outputs": [],
   "source": [
    "def clusterPlot(x,k,clusters, xAxis, yAxis,):\n",
    "    '''\n",
    "    Draw all members of a cluster list and the point x in the cluster k.\n",
    "    \n",
    "    ----------\n",
    "    Paramaters\n",
    "    ----------\n",
    "    - x = single point\n",
    "    - k = cluster which x belongs to\n",
    "    - clusters: Clusters list and each cluster is a data Matrix of points\n",
    "    - xAxis: coordinate x in graphic.\n",
    "    - yAxis: coordinate y in graphic.\n",
    "    '''\n",
    "    for i in range (0, len(clusters)):\n",
    "        c = clusters[i]\n",
    "        p = plt.plot(c[:,xAxis], c[:,yAxis], 'o')\n",
    "        if (k == i):\n",
    "            plt.plot(x[xAxis], x[yAxis],'x', color = p[-1].get_color()) #Last used color, so it belongs to i-cluster\n",
    "    plt.show()"
   ]
  },
  {
   "cell_type": "code",
   "execution_count": 33,
   "metadata": {},
   "outputs": [
    {
     "ename": "NameError",
     "evalue": "name 'i' is not defined",
     "output_type": "error",
     "traceback": [
      "\u001b[1;31m---------------------------------------------------------------------------\u001b[0m",
      "\u001b[1;31mNameError\u001b[0m                                 Traceback (most recent call last)",
      "\u001b[1;32m<ipython-input-33-4336aa8cecb4>\u001b[0m in \u001b[0;36m<module>\u001b[1;34m\u001b[0m\n\u001b[0;32m      7\u001b[0m \u001b[0mmodel\u001b[0m \u001b[1;33m=\u001b[0m \u001b[0mBayesianClassifier\u001b[0m\u001b[1;33m(\u001b[0m\u001b[1;33m)\u001b[0m\u001b[1;33m\u001b[0m\u001b[1;33m\u001b[0m\u001b[0m\n\u001b[0;32m      8\u001b[0m \u001b[0mmodel\u001b[0m\u001b[1;33m.\u001b[0m\u001b[0mfit\u001b[0m\u001b[1;33m(\u001b[0m\u001b[0mX_train\u001b[0m\u001b[1;33m,\u001b[0m \u001b[0my_train\u001b[0m\u001b[1;33m)\u001b[0m\u001b[1;33m\u001b[0m\u001b[1;33m\u001b[0m\u001b[0m\n\u001b[1;32m----> 9\u001b[1;33m \u001b[0my_pred\u001b[0m \u001b[1;33m=\u001b[0m \u001b[0mmodel\u001b[0m\u001b[1;33m.\u001b[0m\u001b[0mpredict\u001b[0m\u001b[1;33m(\u001b[0m\u001b[0mX_test\u001b[0m\u001b[1;33m[\u001b[0m\u001b[1;36m0\u001b[0m\u001b[1;33m]\u001b[0m\u001b[1;33m)\u001b[0m\u001b[1;33m\u001b[0m\u001b[1;33m\u001b[0m\u001b[0m\n\u001b[0m",
      "\u001b[1;32m<ipython-input-31-36a8d1e1f66b>\u001b[0m in \u001b[0;36mpredict\u001b[1;34m(self, x)\u001b[0m\n\u001b[0;32m     95\u001b[0m         \u001b[0msolutions\u001b[0m \u001b[1;33m=\u001b[0m \u001b[1;33m[\u001b[0m\u001b[0mnp\u001b[0m\u001b[1;33m.\u001b[0m\u001b[0mdot\u001b[0m\u001b[1;33m(\u001b[0m\u001b[0mnp\u001b[0m\u001b[1;33m.\u001b[0m\u001b[0mdot\u001b[0m\u001b[1;33m(\u001b[0m\u001b[0mdistances\u001b[0m\u001b[1;33m[\u001b[0m\u001b[0mi\u001b[0m\u001b[1;33m]\u001b[0m\u001b[1;33m,\u001b[0m \u001b[0mself\u001b[0m\u001b[1;33m.\u001b[0m\u001b[0minverse\u001b[0m\u001b[1;33m[\u001b[0m\u001b[0mi\u001b[0m\u001b[1;33m]\u001b[0m\u001b[1;33m)\u001b[0m\u001b[1;33m,\u001b[0m\u001b[0mdistances\u001b[0m\u001b[1;33m[\u001b[0m\u001b[0mi\u001b[0m\u001b[1;33m]\u001b[0m\u001b[1;33m)\u001b[0m \u001b[1;32mfor\u001b[0m \u001b[0mi\u001b[0m \u001b[1;32min\u001b[0m \u001b[0mrange\u001b[0m\u001b[1;33m(\u001b[0m\u001b[1;36m0\u001b[0m\u001b[1;33m,\u001b[0m \u001b[0mlen\u001b[0m\u001b[1;33m(\u001b[0m\u001b[0mdistances\u001b[0m\u001b[1;33m)\u001b[0m\u001b[1;33m)\u001b[0m\u001b[1;33m]\u001b[0m\u001b[1;33m\u001b[0m\u001b[1;33m\u001b[0m\u001b[0m\n\u001b[0;32m     96\u001b[0m \u001b[1;33m\u001b[0m\u001b[0m\n\u001b[1;32m---> 97\u001b[1;33m         solutions = [solutions[i] + np.log(np.linalg.norm(self.covarianceCluster[i]) -2*np.log(self.sizeCluster[i]/self.N)\n\u001b[0m\u001b[0;32m     98\u001b[0m                                            for i in range(0, len(solutions)))]\n\u001b[0;32m     99\u001b[0m \u001b[1;33m\u001b[0m\u001b[0m\n",
      "\u001b[1;31mNameError\u001b[0m: name 'i' is not defined"
     ]
    }
   ],
   "source": [
    "data = pd.read_csv('seeds_dataset.txt')\n",
    "data = data.values\n",
    "X = data[:,:-1]\n",
    "y = data[:,-1]\n",
    "X_train, X_test, y_train, y_test = train_test_split(X, y, test_size=0.7)\n",
    "\n",
    "model = BayesianClassifier()\n",
    "model.fit(X_train, y_train)\n",
    "y_pred = model.predict(X_test[0])"
   ]
  },
  {
   "cell_type": "code",
   "execution_count": 3,
   "metadata": {},
   "outputs": [
    {
     "data": {
      "text/plain": [
       "0"
      ]
     },
     "execution_count": 3,
     "metadata": {},
     "output_type": "execute_result"
    }
   ],
   "source": [
    "[1,2,3,1].index(1)"
   ]
  },
  {
   "cell_type": "code",
   "execution_count": null,
   "metadata": {},
   "outputs": [],
   "source": []
  }
 ],
 "metadata": {
  "kernelspec": {
   "display_name": "Python 3",
   "language": "python",
   "name": "python3"
  },
  "language_info": {
   "codemirror_mode": {
    "name": "ipython",
    "version": 3
   },
   "file_extension": ".py",
   "mimetype": "text/x-python",
   "name": "python",
   "nbconvert_exporter": "python",
   "pygments_lexer": "ipython3",
   "version": "3.7.3"
  }
 },
 "nbformat": 4,
 "nbformat_minor": 2
}
