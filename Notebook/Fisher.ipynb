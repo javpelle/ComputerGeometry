{
 "cells": [
  {
   "cell_type": "code",
   "execution_count": null,
   "metadata": {},
   "outputs": [],
   "source": [
    "import numpy as np\n",
    "from random import sample\n",
    "import pandas as pd\n",
    "import matplotlib.pyplot as pl"
   ]
  },
  {
   "cell_type": "code",
   "execution_count": 50,
   "metadata": {},
   "outputs": [],
   "source": [
    "class fisher:\n",
    "    \n",
    "    def __init__(self,norm = np.linalg.norm):\n",
    "        self.norm = norm\n",
    "        \n",
    "    def fit(self, dataX, dataY):\n",
    "        #dataY must contain 2 different labels as maximum\n",
    "        #dataX\n",
    "        self.dataX = dataX\n",
    "        self.dataY = dataY\n",
    "        self.dimensions = len(dataX[0])\n",
    "        \n",
    "    def predict(self): \n",
    "        \n",
    "        covarianzeWithin = [np.zeros((self.dimensions, self.dimensions)), np.zeros((self.dimensions, self.dimensions))]\n",
    "        meanClasses = [np.zeros(self.dimensions), np.zeros(self.dimensions)]\n",
    "        sizeClasses = [0,0]\n",
    "    \n",
    "        labels = set(dataY)\n",
    "        \n",
    "        #Sets cannot be indexed, so we will use pop instead\n",
    "        label0 = labels.pop()\n",
    "        label1 = labels.pop()\n",
    "        \n",
    "        for i in range(0, len(self.dataX)):\n",
    "            if (dataY[i] == label0):\n",
    "                sizeClasses[0] += 1\n",
    "                meanClasses[0] += self.dataX[i]\n",
    "            else:\n",
    "                sizeClasses[1] += 1\n",
    "                meanClasses[1] += self.dataX[i]\n",
    "    \n",
    "        meanClasses[0] = meanClasses[0] / sizeClasses[0]\n",
    "        meanClasses[1] = meanClasses[1] / sizeClasses[1]\n",
    "        \n",
    "        for i in range(0, len(self.dataX)):\n",
    "            if (self.dataY[i] == label0):\n",
    "                nDisper = np.subtract(self.dataX[i], meanClasses[0])\n",
    "                product = np.outer(nDisper,nDisper)\n",
    "                covarianzeWithin += product\n",
    "                \n",
    "            else:\n",
    "                nDisper = np.subtract(self.dataX[i], meanClasses[1])\n",
    "                product = np.outer(nDisper,nDisper)\n",
    "                covarianzeWithin += product\n",
    "        \n",
    "        \n",
    "        totalWithinCovariance = sum(covarianzeWithin)\n",
    "         \n",
    "        #We return the direction of w, the associated matrix to the lineal projection we are looking for.\n",
    "        return np.dot(np.linalg.inv(totalWithinCovariance), np.subtract(meanClasses[0],meanClasses[1]))"
   ]
  },
  {
   "cell_type": "code",
   "execution_count": 51,
   "metadata": {},
   "outputs": [
    {
     "name": "stdout",
     "output_type": "stream",
     "text": [
      "[-9.2 -9.4]\n",
      "[[ 0.0188457  -0.01236749]\n",
      " [-0.01236749  0.03415783]]\n"
     ]
    },
    {
     "data": {
      "text/plain": [
       "array([-0.05712603, -0.20730271])"
      ]
     },
     "execution_count": 51,
     "metadata": {},
     "output_type": "execute_result"
    }
   ],
   "source": [
    "dataX= np.array([[2, 3],\n",
    "       [4, 1],\n",
    "       [2, 1],\n",
    "       [0, 1],\n",
    "       [1, 2],[9, 8],\n",
    "       [12, 13],[10,12],[15, 12],\n",
    "       [9, 10]])\n",
    "dataY = np.array([0,0,0,0,0,1,1,1,1,1])\n",
    "f = fisher()\n",
    "f.fit(dataX, dataY)\n",
    "f.predict()"
   ]
  },
  {
   "cell_type": "code",
   "execution_count": 52,
   "metadata": {},
   "outputs": [
    {
     "data": {
      "text/plain": [
       "-0.05712603399999999"
      ]
     },
     "execution_count": 52,
     "metadata": {},
     "output_type": "execute_result"
    }
   ],
   "source": [
    "plot()"
   ]
  },
  {
   "cell_type": "code",
   "execution_count": null,
   "metadata": {},
   "outputs": [],
   "source": []
  }
 ],
 "metadata": {
  "kernelspec": {
   "display_name": "Python 3",
   "language": "python",
   "name": "python3"
  },
  "language_info": {
   "codemirror_mode": {
    "name": "ipython",
    "version": 3
   },
   "file_extension": ".py",
   "mimetype": "text/x-python",
   "name": "python",
   "nbconvert_exporter": "python",
   "pygments_lexer": "ipython3",
   "version": "3.7.3"
  }
 },
 "nbformat": 4,
 "nbformat_minor": 2
}
